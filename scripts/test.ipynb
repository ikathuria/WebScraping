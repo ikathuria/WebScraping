{
 "cells": [
  {
   "cell_type": "code",
   "execution_count": 31,
   "metadata": {},
   "outputs": [
    {
     "name": "stdout",
     "output_type": "stream",
     "text": [
      "Paper 1:\n",
      "Title: Real-Time Temperature Based Food Recommendation using Artificial Intelligence\n",
      "DOI URL: https://doi.org/10.1109/icccnt56998.2023.10306446\n",
      "Publication Date: 2023\n",
      "Journal Title: 2023 14th International Conference on Computing Communication and Networking Technologies (ICCCNT)\n",
      "----------------------------------------\n",
      "Paper 2:\n",
      "Title: Applications of Deep Learning in Healthcare: A Systematic Analysis\n",
      "DOI URL: https://doi.org/10.1007/978-981-19-9876-8_29\n",
      "Publication Date: 2023\n",
      "Journal Title: None\n",
      "----------------------------------------\n",
      "Paper 3:\n",
      "Title: Predicting daily PM2.5 using Classic Azure ML Studio\n",
      "DOI URL: https://doi.org/10.1109/com-it-con54601.2022.9850494\n",
      "Publication Date: 2022\n",
      "Journal Title: 2022 International Conference on Machine Learning, Big Data, Cloud and Parallel Computing (COM-IT-CON)\n",
      "----------------------------------------\n"
     ]
    }
   ],
   "source": [
    "# Replace with your ORCID ID\n",
    "orcid_id = \"0000-0001-7345-7405\"\n",
    "\n",
    "# Fetch and display research papers\n",
    "papers = fetch_orcid_works(orcid_id)\n",
    "\n",
    "if papers:\n",
    "    for idx, paper in enumerate(papers, start=1):\n",
    "        print(f\"Paper {idx}:\")\n",
    "        print(f\"Title: {paper['title']}\")\n",
    "        print(f\"DOI URL: {paper['doi_url']}\")\n",
    "        print(f\"Publication Date: {paper['publication_date']}\")\n",
    "        print(f\"Journal Title: {paper['journal_title']}\")\n",
    "        print(\"-\" * 40)\n",
    "else:\n",
    "    print(\"No research papers found or error occurred.\")"
   ]
  }
 ],
 "metadata": {
  "kernelspec": {
   "display_name": "Python 3",
   "language": "python",
   "name": "python3"
  },
  "language_info": {
   "codemirror_mode": {
    "name": "ipython",
    "version": 3
   },
   "file_extension": ".py",
   "mimetype": "text/x-python",
   "name": "python",
   "nbconvert_exporter": "python",
   "pygments_lexer": "ipython3",
   "version": "3.12.6"
  }
 },
 "nbformat": 4,
 "nbformat_minor": 2
}
